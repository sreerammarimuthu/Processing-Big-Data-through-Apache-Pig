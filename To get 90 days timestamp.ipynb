{
 "cells": [
  {
   "cell_type": "code",
   "execution_count": 3,
   "id": "3467baec",
   "metadata": {},
   "outputs": [
    {
     "data": {
      "text/plain": [
       "28294513.7"
      ]
     },
     "execution_count": 3,
     "metadata": {},
     "output_type": "execute_result"
    }
   ],
   "source": [
    "import time\n",
    "\n",
    "# Get the current timestamp in seconds\n",
    "current_timestamp = int(time.time())/60\n",
    "\n",
    "current_timestamp"
   ]
  },
  {
   "cell_type": "code",
   "execution_count": 4,
   "id": "38e809ed",
   "metadata": {},
   "outputs": [],
   "source": [
    "# Calculate the timestamp representing 90 days ago in seconds\n",
    "ninety_days_ago = 90 * 24 * 60\n",
    "\n",
    "difference=current_timestamp-ninety_days_ago\n",
    "# Save the value in a text file\n",
    "with open('ninety_days_ago_timestamp.txt', 'w') as file:\n",
    "    file.write(str(difference))\n"
   ]
  },
  {
   "cell_type": "code",
   "execution_count": 5,
   "id": "1e522851",
   "metadata": {},
   "outputs": [],
   "source": [
    "import random\n",
    "\n",
    "# Number of data points\n",
    "num_data_points = 5000\n",
    "\n",
    "# Range for data points (0 to 10,000)\n",
    "data_range = 10000\n",
    "\n",
    "# Number of seed points (K value)\n",
    "num_seed_points = 10  # You can adjust this as needed\n",
    "\n",
    "# Generate the data points\n",
    "data_points = [(random.randint(0, data_range), random.randint(0, data_range)) for _ in range(num_data_points)]\n",
    "\n",
    "# Generate the seed points\n",
    "seed_points = [(random.randint(0, data_range), random.randint(0, data_range)) for _ in range(num_seed_points)]\n",
    "\n",
    "# Save the data points to a file\n",
    "with open('data_points.txt', 'w') as data_file:\n",
    "    for point in data_points:\n",
    "        data_file.write(f\"{point[0]},{point[1]}\\n\")\n",
    "\n",
    "# Save the seed points to a file\n",
    "with open('seed_points.txt', 'w') as seed_file:\n",
    "    for point in seed_points:\n",
    "        seed_file.write(f\"{point[0]},{point[1]}\\n\")"
   ]
  }
 ],
 "metadata": {
  "kernelspec": {
   "display_name": "Python 3 (ipykernel)",
   "language": "python",
   "name": "python3"
  },
  "language_info": {
   "codemirror_mode": {
    "name": "ipython",
    "version": 3
   },
   "file_extension": ".py",
   "mimetype": "text/x-python",
   "name": "python",
   "nbconvert_exporter": "python",
   "pygments_lexer": "ipython3",
   "version": "3.11.4"
  }
 },
 "nbformat": 4,
 "nbformat_minor": 5
}
